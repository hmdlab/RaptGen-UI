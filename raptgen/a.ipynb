{
 "cells": [
  {
   "cell_type": "code",
   "execution_count": 21,
   "metadata": {},
   "outputs": [],
   "source": [
    "import pandas as pd\n",
    "def measured_sample():\n",
    "    df = pd.read_csv(\"/app/local/report_all.csv\")\n",
    "    result = list()\n",
    "    for hue, subset_df in df.groupby(\"hue\"):\n",
    "        subset_df = subset_df[['ID', 'Sequence']]\n",
    "        result.append({\n",
    "            \"hue\": hue,\n",
    "            \"data\": subset_df.to_dict(orient=\"list\")\n",
    "        })\n",
    "    return result"
   ]
  },
  {
   "cell_type": "code",
   "execution_count": 22,
   "metadata": {},
   "outputs": [],
   "source": [
    "dic =  measured_sample()"
   ]
  },
  {
   "cell_type": "code",
   "execution_count": 23,
   "metadata": {},
   "outputs": [
    {
     "data": {
      "text/plain": [
       "{'ID': ['Lb01S_D13_c1_1_47',\n",
       "  'Lb01S_D13_c1_1_32',\n",
       "  'Lb01S_D13_c1_1_53',\n",
       "  'Lb01S_D13_c1_1_26',\n",
       "  'Lb01S_D13_c1_1_35',\n",
       "  'Lb01S_D13_c1_1_59_dGAAT',\n",
       "  'Lb01S_D13_c1_1_61_dGA',\n",
       "  'Lb01S_D13_c1_1_61_dTT',\n",
       "  'Lb01S_D13_c1_1_61_dCC',\n",
       "  'Lb01S_D13_c1_1_60_dTAA',\n",
       "  'Lb01S_D13_c1_1_54_GGG',\n",
       "  'Lb01S_D13_c1_1_54_GGA',\n",
       "  'Lb01S_D13_c4_1_58',\n",
       "  'Lb01S_D13_c4_1_35',\n",
       "  'Lb01S_D13_c4_1_49',\n",
       "  'Lb01S_D13_c4_1_34',\n",
       "  'Lb01S_D13_c4_1_57',\n",
       "  'Lb01S_D13_c4_1_61_dAA',\n",
       "  'Lb01S_D13_c4_1_61_dGA',\n",
       "  'Lb01S_D13_c4_1_61_dAT',\n",
       "  'Lb01S_D13_c4_1_52_GGG',\n",
       "  'Lb01S_D13_c4_1_52_GGA',\n",
       "  'Lb01S_D13_c6_1',\n",
       "  'Lb01S_D13_Abs_c10_1'],\n",
       " 'Sequence': ['GGGTGTTCAGCGTTTTTCCCTAAGACGGACCTGAACCGAATGAGCCC',\n",
       "  'GGGCAGCGTTTTTCCCTAAGACGGACCTGCCC',\n",
       "  'GGGTGTTCAGCGTTTTTCCCTAAGACGGACCTGAACCGAATGAGCTTGCGCCC',\n",
       "  'GGGACCGAGTGTTCAGCGTTTTTCCC',\n",
       "  'GGGCGGACCTGAACCGAATGAGCTTGCACGTCGAG',\n",
       "  'GGGACCGAGTGTTCAGCGTTTTTCCCTAAGACGGACCTGAACCGAGCTTGCACGTCGAG',\n",
       "  'GGGACCGAGTGTTCAGCGTTTTTCCCTAAGACGGACCTACCGAATGAGCTTGCACGTCGAG',\n",
       "  'GGGACCGAGTGTTCAGCGTTTCCCTAAGACGGACCTGAACCGAATGAGCTTGCACGTCGAG',\n",
       "  'GGGACCGAGTGTTCAGCGTTTTTCTAAGACGGACCTGAACCGAATGAGCTTGCACGTCGAG',\n",
       "  'GGGACCGAGTGTTCAGCGTTTTTCCCGACGGACCTGAACCGAATGAGCTTGCACGTCGAG',\n",
       "  'GGGCGAGTGTTCAGCGTTTTTCCCTAAGACGGACCTGAACCGAGCTTGCACCCC',\n",
       "  'GGACGAGTGTTCAGCGTTTTTCCCTAAGACGGACCTGAACCGAGCTTGCACTCC',\n",
       "  'GGCCGAGTGTTCAGCATTTCCCTAAATACGGACTGAACCTTATGTGAGCTTGCACGCC',\n",
       "  'GGTGTTCAGCATTTCCCTAAATACGGACTGAACCC',\n",
       "  'GGGACCGAGTGTTCAGCATTTCCCAACTTATGTGAGCTTGCACGTCGAG',\n",
       "  'GGGTAACCCTAAATACGGACTGAACCTCTAAGAG',\n",
       "  'GGGACCGAGTGTTCAGCATTTCCCTAAATACGGACTGAACCGAGCTTGCACGTCGAG',\n",
       "  'GGGACCGAGTGTTCAGCATTTCCCTATACGGACTGAACCTTATGTGAGCTTGCACGTCGAG',\n",
       "  'GGGACCGAGTGTTCAGCATTTCCCTAAATACGGACTACCTTATGTGAGCTTGCACGTCGAG',\n",
       "  'GGGACCGAGTGTTCAGCATTTCCCTAAATACGGACTGAACCTTGTGAGCTTGCACGTCGAG',\n",
       "  'GGGCGAGTGTTCAGCATTTCCCTAAATACGGACTGAACCGAGCTTGCACCCC',\n",
       "  'GGACGAGTGTTCAGCATTTCCCTAAATACGGACTGAACCGAGCTTGCACTCC',\n",
       "  'GGGACCGAGTGTTCAGCTCTGGTCGCCACGCATACTCAGGTCCCTGCGAGCTTGCACGTCGAG',\n",
       "  'GGGACCGAGTGTTCAGCTAATACGACTCACTATAGGGACCGAGTGTTCAGCGAGCTTGCACGTCGAG']}"
      ]
     },
     "execution_count": 23,
     "metadata": {},
     "output_type": "execute_result"
    }
   ],
   "source": [
    "dic[0]['data']"
   ]
  },
  {
   "cell_type": "code",
   "execution_count": null,
   "metadata": {},
   "outputs": [],
   "source": []
  }
 ],
 "metadata": {
  "kernelspec": {
   "display_name": "Python 3",
   "language": "python",
   "name": "python3"
  },
  "language_info": {
   "codemirror_mode": {
    "name": "ipython",
    "version": 3
   },
   "file_extension": ".py",
   "mimetype": "text/x-python",
   "name": "python",
   "nbconvert_exporter": "python",
   "pygments_lexer": "ipython3",
   "version": "3.11.0 (main, Oct 25 2022, 13:57:33) [Clang 14.0.0 (clang-1400.0.29.202)]"
  },
  "orig_nbformat": 4,
  "vscode": {
   "interpreter": {
    "hash": "5c7b89af1651d0b8571dde13640ecdccf7d5a6204171d6ab33e7c296e100e08a"
   }
  }
 },
 "nbformat": 4,
 "nbformat_minor": 2
}
